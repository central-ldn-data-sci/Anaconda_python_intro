{
 "cells": [
  {
   "cell_type": "markdown",
   "metadata": {},
   "source": [
    "## Welcome to Jupyter\n",
    "\n",
    "Here we can create notebooks, which are a great way to test and share code.\n",
    "\n",
    "In a Jupyter notebook you can write either text within a cell using markdown, or write code within a cell. \n",
    "\n",
    "To change the cell type use the drop down above, however there are also many shortcut keys to help speed this up. \n",
    "\n",
    "1. Press Esc to exit out of writing mode\n",
    "2. Press Enter to return to writing mode within a cell\n",
    "3. Navigate between cells using up and down arrows\n",
    "4. Press Ctrl+Enter to run a cell\n",
    "5. When out of writing mode, use X to delete the current cell, A/B to insert cells above and below the current cell\n",
    "6. For more useful shortcut keys please see this fantastic link https://www.cheatography.com/weidadeyue/cheat-sheets/jupyter-notebook/\n",
    "\n",
    "---\n"
   ]
  },
  {
   "cell_type": "code",
   "execution_count": 5,
   "metadata": {},
   "outputs": [
    {
     "name": "stdout",
     "output_type": "stream",
     "text": [
      "2\n"
     ]
    }
   ],
   "source": [
    "## Now we are in a code cell the text we write will be interpreted as python code \n",
    "a = 2\n",
    "print(a)"
   ]
  },
  {
   "cell_type": "markdown",
   "metadata": {},
   "source": [
    "Earlier we saw how we could install packages using Anaconda Navigator, and using terminal booted from within the Navigator. We can also install packages from within jupyter notebooks, by using `!` before commands we typed into the terminal. "
   ]
  },
  {
   "cell_type": "code",
   "execution_count": 6,
   "metadata": {},
   "outputs": [
    {
     "name": "stdout",
     "output_type": "stream",
     "text": [
      "Fetching package metadata ...........\n",
      "Solving package specifications: .\n",
      "\n",
      "# All requested packages already installed.\n",
      "# packages in environment at C:\\Users\\Oliver\\Anaconda3\\envs\\NewEnv:\n",
      "#\n",
      "anaconda-client           1.6.3                    py35_0  \n"
     ]
    }
   ],
   "source": [
    "## We are going to use this to install a package called anaconda-client using conda install\n",
    "!conda install anaconda-client -y"
   ]
  },
  {
   "cell_type": "markdown",
   "metadata": {},
   "source": [
    "The use of the `-y` argument here is **very** important, as this tells the installer to not wait for the user to respond to the prompt about whether to install the packages, i.e. having to press y/n. If you want to review the packages that will be installed/modified then it is best to insall them using the terminal. \n",
    "\n",
    "---\n",
    "\n",
    "By default, the use of `!conda install` in this way will install the package to the environment location that we are running the kernel in. This would be the environment from which we started jupyter notebook from, but we can check this by looking at some of the system variables from the `sys` module. "
   ]
  },
  {
   "cell_type": "code",
   "execution_count": 7,
   "metadata": {},
   "outputs": [
    {
     "data": {
      "text/plain": [
       "'C:\\\\Users\\\\Oliver\\\\Anaconda3\\\\envs\\\\NewEnv\\\\python.exe'"
      ]
     },
     "execution_count": 7,
     "metadata": {},
     "output_type": "execute_result"
    }
   ],
   "source": [
    "import sys\n",
    "sys.executable"
   ]
  },
  {
   "cell_type": "markdown",
   "metadata": {},
   "source": [
    "We also said that we would look at using pandas, numpy and matplotlib to explore how to carry out some basic date import, manipulation and plotting. As such we will have to import some additional packages. To see which pacakges we already have installed, however, we can make use of `pip`. pip is a package management system used to install and manage software packages written in Python. It is similar to conda, however there are key fundamental differences that are outside the scope of this tutorial to explore. However, for interested users I would recommend reading the following excellent discussion about the difference and related strengths and weaknesses of `pip` vs `conda` (https://jakevdp.github.io/blog/2016/08/25/conda-myths-and-misconceptions/). For the moment we will continue to use conda to install packages. "
   ]
  },
  {
   "cell_type": "code",
   "execution_count": 14,
   "metadata": {},
   "outputs": [
    {
     "name": "stdout",
     "output_type": "stream",
     "text": [
      "anaconda-client==1.6.3\n",
      "bleach==1.5.0\n",
      "certifi==2016.2.28\n",
      "clyent==1.2.2\n",
      "colorama==0.3.9\n",
      "decorator==4.1.2\n",
      "entrypoints==0.2.3\n",
      "html5lib==0.9999999\n",
      "ipykernel==4.6.1\n",
      "ipython==6.1.0\n",
      "ipython-genutils==0.2.0\n",
      "ipywidgets==6.0.0\n",
      "jedi==0.10.2\n",
      "Jinja2==2.9.6\n",
      "jsonschema==2.6.0\n",
      "jupyter==1.0.0\n",
      "jupyter-client==5.1.0\n",
      "jupyter-console==5.2.0\n",
      "jupyter-core==4.3.0\n",
      "MarkupSafe==1.0\n",
      "mistune==0.7.4\n",
      "nbconvert==5.2.1\n",
      "nbformat==4.4.0\n",
      "notebook==5.0.0\n",
      "numpy==1.13.1\n",
      "pandocfilters==1.4.2\n",
      "path.py==10.3.1\n",
      "pickleshare==0.7.4\n",
      "prompt-toolkit==1.0.15\n",
      "Pygments==2.2.0\n",
      "python-dateutil==2.6.1\n",
      "pytz==2017.2\n",
      "PyYAML==3.12\n",
      "pyzmq==16.0.2\n",
      "qtconsole==4.3.1\n",
      "requests==2.14.2\n",
      "simplegeneric==0.8.1\n",
      "six==1.10.0\n",
      "testpath==0.3\n",
      "tornado==4.5.2\n",
      "traitlets==4.3.2\n",
      "wcwidth==0.1.7\n",
      "widgetsnbextension==3.0.2\n",
      "win-unicode-console==0.5\n",
      "wincertstore==0.2\n"
     ]
    }
   ],
   "source": [
    "# We can use pip freeze to examine what packages and their versions are installed from within our jupyter session\n",
    "!pip freeze"
   ]
  },
  {
   "cell_type": "markdown",
   "metadata": {},
   "source": [
    "We can see that we still need to install matplotlib, and pandas:"
   ]
  },
  {
   "cell_type": "code",
   "execution_count": 2,
   "metadata": {},
   "outputs": [
    {
     "name": "stdout",
     "output_type": "stream",
     "text": [
      "Fetching package metadata ...........\n",
      "Solving package specifications: .\n",
      "\n",
      "# All requested packages already installed.\n",
      "# packages in environment at C:\\Users\\Oliver\\Anaconda3\\envs\\NewEnv:\n",
      "#\n",
      "matplotlib                2.0.2               np113py35_0  \n",
      "Fetching package metadata ...........\n",
      "Solving package specifications: .\n",
      "\n",
      "# All requested packages already installed.\n",
      "# packages in environment at C:\\Users\\Oliver\\Anaconda3\\envs\\NewEnv:\n",
      "#\n",
      "pandas                    0.20.3                   py35_0  \n"
     ]
    }
   ],
   "source": [
    "!conda install matplotlib -y # install matplotlib\n",
    "!conda install pandas -y # install pandas"
   ]
  },
  {
   "cell_type": "markdown",
   "metadata": {},
   "source": [
    "Now that we have got all the pacakges we need, and have set up our environment as we want it may be useful to save our environment so that if we share our notebook with another person they have the same environment that we used. We can do this using our earlier installed package anaconda-client:"
   ]
  },
  {
   "cell_type": "code",
   "execution_count": 8,
   "metadata": {
    "collapsed": true
   },
   "outputs": [],
   "source": [
    "# we use the conda command to export our environment \"NewEnv\" and save it as \"cldsforall.yml\"\n",
    "!conda env export -n NewEnV -f cldsforall.yml"
   ]
  },
  {
   "cell_type": "markdown",
   "metadata": {},
   "source": [
    "We could now upload that environment to our Anaconda cloud account that would then mean that other users could download it and install it as a new environment within their own Anaconda Navigator, so that they could carry out the next sections without having to carry out the previous sections. This can be found, for example, at our anaconda cloud account here (https://anaconda.org/clds/environments)\n",
    "\n",
    "## Intro to pandas, numpy and matplotlib (and Seaborn)"
   ]
  },
  {
   "cell_type": "markdown",
   "metadata": {},
   "source": [
    "Firstly, I know I didn't include seaborn in the description but while writing this sections as a beginner myself, I did some more reading and like how it enables more out the box visualisation (plus it has the Titanic sample dataset included so that's great), and it sits sort of on top of matplotlib so that you can gain more fine scale functionalty if it's needed."
   ]
  },
  {
   "cell_type": "code",
   "execution_count": 9,
   "metadata": {},
   "outputs": [
    {
     "name": "stdout",
     "output_type": "stream",
     "text": [
      "Fetching package metadata ...........\n",
      "Solving package specifications: .\n",
      "\n",
      "Package plan for installation in environment C:\\Users\\Oliver\\Anaconda3\\envs\\NewEnv:\n",
      "\n",
      "The following NEW packages will be INSTALLED:\n",
      "\n",
      "    patsy:       0.4.1-py35_0      \n",
      "    scipy:       0.19.1-np113py35_0\n",
      "    seaborn:     0.8-py35_0        \n",
      "    statsmodels: 0.8.0-np113py35_0 \n",
      "\n",
      "seaborn-0.8-py   0% |                              | ETA:  --:--:--   0.00  B/s\n",
      "seaborn-0.8-py   4% |#                              | ETA:  0:00:00   8.19 MB/s\n",
      "seaborn-0.8-py   9% |##                             | ETA:  0:00:00  10.92 MB/s\n",
      "seaborn-0.8-py  14% |####                           | ETA:  0:00:00  12.29 MB/s\n",
      "seaborn-0.8-py  18% |#####                          | ETA:  0:00:00  13.11 MB/s\n",
      "seaborn-0.8-py  23% |#######                        | ETA:  0:00:00  11.70 MB/s\n",
      "seaborn-0.8-py  28% |########                       | ETA:  0:00:00  12.29 MB/s\n",
      "seaborn-0.8-py  32% |##########                     | ETA:  0:00:00  11.47 MB/s\n",
      "seaborn-0.8-py  37% |###########                    | ETA:  0:00:00  11.91 MB/s\n",
      "seaborn-0.8-py  42% |#############                  | ETA:  0:00:00  12.29 MB/s\n",
      "seaborn-0.8-py  47% |##############                 | ETA:  0:00:00  13.65 MB/s\n",
      "seaborn-0.8-py  51% |################               | ETA:  0:00:00  12.87 MB/s\n",
      "seaborn-0.8-py  56% |#################              | ETA:  0:00:00  13.11 MB/s\n",
      "seaborn-0.8-py  61% |##################             | ETA:  0:00:00  14.20 MB/s\n",
      "seaborn-0.8-py  65% |####################           | ETA:  0:00:00  12.74 MB/s\n",
      "seaborn-0.8-py  70% |#####################          | ETA:  0:00:00  12.93 MB/s\n",
      "seaborn-0.8-py  75% |#######################        | ETA:  0:00:00  13.80 MB/s\n",
      "seaborn-0.8-py  80% |########################       | ETA:  0:00:00  13.26 MB/s\n",
      "seaborn-0.8-py  84% |##########################     | ETA:  0:00:00  14.04 MB/s\n",
      "seaborn-0.8-py  89% |###########################    | ETA:  0:00:00  14.15 MB/s\n",
      "seaborn-0.8-py  94% |#############################  | ETA:  0:00:00  14.25 MB/s\n",
      "seaborn-0.8-py  98% |############################## | ETA:  0:00:00  14.96 MB/s\n",
      "seaborn-0.8-py 100% |###############################| ETA:  0:00:00  14.50 MB/s\n",
      "seaborn-0.8-py 100% |###############################| Time: 0:00:00  14.50 MB/s\n",
      "\n"
     ]
    }
   ],
   "source": [
    "!conda install seaborn -y"
   ]
  },
  {
   "cell_type": "code",
   "execution_count": 42,
   "metadata": {
    "collapsed": true
   },
   "outputs": [],
   "source": [
    "# Now let's import the packages as shortened abbreviations for ease later on:\n",
    "import numpy as np\n",
    "import pandas as pd\n",
    "import seaborn as sns\n",
    "import matplotlib as mpl\n",
    "import matplotlib.pyplot as plt\n",
    "\n",
    "# Load dataset that comes within seaborn\n",
    "titanic = sns.load_dataset('titanic')"
   ]
  },
  {
   "cell_type": "markdown",
   "metadata": {},
   "source": [
    "The first/main thing to know about (i think) with pandas is how the various datastructures work within pandas. They are built on top of NumPy, which provides multi-dimensional arrays and very quick operations internally for its data structures. Pandas then makes these methods very easy to use for data maniupulation and analysis. We'll have a quick look at some of these data structures, but a more in depth overview can be found here (https://pandas.pydata.org/pandas-docs/stable/dsintro.html#dsintro)."
   ]
  },
  {
   "cell_type": "code",
   "execution_count": 37,
   "metadata": {},
   "outputs": [
    {
     "data": {
      "text/plain": [
       "a       1\n",
       "b      10\n",
       "b    clds\n",
       "7     NaN\n",
       "dtype: object"
      ]
     },
     "execution_count": 37,
     "metadata": {},
     "output_type": "execute_result"
    }
   ],
   "source": [
    "## We have  series in pandas, which are 1-dimensional arrays with one axis called \"index\".\n",
    "## As it is an array it can have different data types within the array\n",
    "pd.Series([1, 10, 'clds', np.nan], index=['a', 'b', 'b', 7])"
   ]
  },
  {
   "cell_type": "code",
   "execution_count": 38,
   "metadata": {},
   "outputs": [
    {
     "data": {
      "text/html": [
       "<div>\n",
       "<style>\n",
       "    .dataframe thead tr:only-child th {\n",
       "        text-align: right;\n",
       "    }\n",
       "\n",
       "    .dataframe thead th {\n",
       "        text-align: left;\n",
       "    }\n",
       "\n",
       "    .dataframe tbody tr th {\n",
       "        vertical-align: top;\n",
       "    }\n",
       "</style>\n",
       "<table border=\"1\" class=\"dataframe\">\n",
       "  <thead>\n",
       "    <tr style=\"text-align: right;\">\n",
       "      <th></th>\n",
       "      <th>D</th>\n",
       "      <th>M</th>\n",
       "      <th>Y</th>\n",
       "    </tr>\n",
       "  </thead>\n",
       "  <tbody>\n",
       "    <tr>\n",
       "      <th>0</th>\n",
       "      <td>7</td>\n",
       "      <td>9</td>\n",
       "      <td>2017</td>\n",
       "    </tr>\n",
       "    <tr>\n",
       "      <th>1</th>\n",
       "      <td>14</td>\n",
       "      <td>9</td>\n",
       "      <td>2017</td>\n",
       "    </tr>\n",
       "  </tbody>\n",
       "</table>\n",
       "</div>"
      ],
      "text/plain": [
       "    D  M     Y\n",
       "0   7  9  2017\n",
       "1  14  9  2017"
      ]
     },
     "execution_count": 38,
     "metadata": {},
     "output_type": "execute_result"
    }
   ],
   "source": [
    "## Then we have data frames which are 2 dimensional structures (similar looking to a conventional table for example)\n",
    "pd.DataFrame({'D': [7, 14], 'M': [9, 9], 'Y': [2017, 2017]})"
   ]
  },
  {
   "cell_type": "markdown",
   "metadata": {},
   "source": [
    "There are also structures for >=3 dimensional data, however, we won't have time to cover those, but head here to have a read (http://pandas.pydata.org/pandas-docs/stable/dsintro.html#dsintro-deprecate-panel).\n",
    "\n",
    "---\n",
    "Now we know some structures, we can look at out titanic dataset, and see what type of stucture it is by using the `type` function:"
   ]
  },
  {
   "cell_type": "code",
   "execution_count": 9,
   "metadata": {},
   "outputs": [
    {
     "data": {
      "text/plain": [
       "pandas.core.frame.DataFrame"
      ]
     },
     "execution_count": 9,
     "metadata": {},
     "output_type": "execute_result"
    }
   ],
   "source": [
    "type(titanic)"
   ]
  },
  {
   "cell_type": "markdown",
   "metadata": {},
   "source": [
    "The dataset is a pandas DataFrame object, which means we could use the inbuit functions associated with the DataFrame, which are accessed by typing a `.` after a DataFrame object. What this means is that the DataFrame object has its own functions that manipulate the data inside it. To see what functions can be called after we have typed `.` we just press TAB:"
   ]
  },
  {
   "cell_type": "code",
   "execution_count": 10,
   "metadata": {},
   "outputs": [
    {
     "name": "stdout",
     "output_type": "stream",
     "text": [
      "<class 'pandas.core.frame.DataFrame'>\n",
      "RangeIndex: 891 entries, 0 to 890\n",
      "Data columns (total 15 columns):\n",
      "survived       891 non-null int64\n",
      "pclass         891 non-null int64\n",
      "sex            891 non-null object\n",
      "age            714 non-null float64\n",
      "sibsp          891 non-null int64\n",
      "parch          891 non-null int64\n",
      "fare           891 non-null float64\n",
      "embarked       889 non-null object\n",
      "class          891 non-null category\n",
      "who            891 non-null object\n",
      "adult_male     891 non-null bool\n",
      "deck           203 non-null category\n",
      "embark_town    889 non-null object\n",
      "alive          891 non-null object\n",
      "alone          891 non-null bool\n",
      "dtypes: bool(2), category(2), float64(2), int64(4), object(5)\n",
      "memory usage: 80.6+ KB\n"
     ]
    }
   ],
   "source": [
    "## info shows us the type of data stored within our dataframe as well as how many are NULL entries.\n",
    "titanic.info()"
   ]
  },
  {
   "cell_type": "code",
   "execution_count": 23,
   "metadata": {},
   "outputs": [
    {
     "data": {
      "text/plain": [
       "0      22.0\n",
       "1      38.0\n",
       "2      26.0\n",
       "3      35.0\n",
       "4      35.0\n",
       "5       NaN\n",
       "6      54.0\n",
       "7       2.0\n",
       "8      27.0\n",
       "9      14.0\n",
       "10      4.0\n",
       "11     58.0\n",
       "12     20.0\n",
       "13     39.0\n",
       "14     14.0\n",
       "15     55.0\n",
       "16      2.0\n",
       "17      NaN\n",
       "18     31.0\n",
       "19      NaN\n",
       "20     35.0\n",
       "21     34.0\n",
       "22     15.0\n",
       "23     28.0\n",
       "24      8.0\n",
       "25     38.0\n",
       "26      NaN\n",
       "27     19.0\n",
       "28      NaN\n",
       "29      NaN\n",
       "       ... \n",
       "861    21.0\n",
       "862    48.0\n",
       "863     NaN\n",
       "864    24.0\n",
       "865    42.0\n",
       "866    27.0\n",
       "867    31.0\n",
       "868     NaN\n",
       "869     4.0\n",
       "870    26.0\n",
       "871    47.0\n",
       "872    33.0\n",
       "873    47.0\n",
       "874    28.0\n",
       "875    15.0\n",
       "876    20.0\n",
       "877    19.0\n",
       "878     NaN\n",
       "879    56.0\n",
       "880    25.0\n",
       "881    33.0\n",
       "882    22.0\n",
       "883    28.0\n",
       "884    25.0\n",
       "885    39.0\n",
       "886    27.0\n",
       "887    19.0\n",
       "888     NaN\n",
       "889    26.0\n",
       "890    32.0\n",
       "Name: age, Length: 891, dtype: float64"
      ]
     },
     "execution_count": 23,
     "metadata": {},
     "output_type": "execute_result"
    }
   ],
   "source": [
    "## We can also look at individual columns within ourdataframe by selecting them. Let's look at the ages first\n",
    "titanic.age"
   ]
  },
  {
   "cell_type": "markdown",
   "metadata": {},
   "source": [
    "We can also view a column by accessing the name of the column via ```titanic['age']```. However if we want to look at more than one column we can do it like this, with `head()` shortening the number of results displayed, so that a long list is displayed as above."
   ]
  },
  {
   "cell_type": "code",
   "execution_count": 34,
   "metadata": {},
   "outputs": [
    {
     "data": {
      "text/html": [
       "<div>\n",
       "<style>\n",
       "    .dataframe thead tr:only-child th {\n",
       "        text-align: right;\n",
       "    }\n",
       "\n",
       "    .dataframe thead th {\n",
       "        text-align: left;\n",
       "    }\n",
       "\n",
       "    .dataframe tbody tr th {\n",
       "        vertical-align: top;\n",
       "    }\n",
       "</style>\n",
       "<table border=\"1\" class=\"dataframe\">\n",
       "  <thead>\n",
       "    <tr style=\"text-align: right;\">\n",
       "      <th></th>\n",
       "      <th>age</th>\n",
       "      <th>sex</th>\n",
       "    </tr>\n",
       "  </thead>\n",
       "  <tbody>\n",
       "    <tr>\n",
       "      <th>0</th>\n",
       "      <td>22.0</td>\n",
       "      <td>male</td>\n",
       "    </tr>\n",
       "    <tr>\n",
       "      <th>1</th>\n",
       "      <td>38.0</td>\n",
       "      <td>female</td>\n",
       "    </tr>\n",
       "    <tr>\n",
       "      <th>2</th>\n",
       "      <td>26.0</td>\n",
       "      <td>female</td>\n",
       "    </tr>\n",
       "    <tr>\n",
       "      <th>3</th>\n",
       "      <td>35.0</td>\n",
       "      <td>female</td>\n",
       "    </tr>\n",
       "    <tr>\n",
       "      <th>4</th>\n",
       "      <td>35.0</td>\n",
       "      <td>male</td>\n",
       "    </tr>\n",
       "    <tr>\n",
       "      <th>5</th>\n",
       "      <td>NaN</td>\n",
       "      <td>male</td>\n",
       "    </tr>\n",
       "    <tr>\n",
       "      <th>6</th>\n",
       "      <td>54.0</td>\n",
       "      <td>male</td>\n",
       "    </tr>\n",
       "    <tr>\n",
       "      <th>7</th>\n",
       "      <td>2.0</td>\n",
       "      <td>male</td>\n",
       "    </tr>\n",
       "    <tr>\n",
       "      <th>8</th>\n",
       "      <td>27.0</td>\n",
       "      <td>female</td>\n",
       "    </tr>\n",
       "    <tr>\n",
       "      <th>9</th>\n",
       "      <td>14.0</td>\n",
       "      <td>female</td>\n",
       "    </tr>\n",
       "  </tbody>\n",
       "</table>\n",
       "</div>"
      ],
      "text/plain": [
       "    age     sex\n",
       "0  22.0    male\n",
       "1  38.0  female\n",
       "2  26.0  female\n",
       "3  35.0  female\n",
       "4  35.0    male\n",
       "5   NaN    male\n",
       "6  54.0    male\n",
       "7   2.0    male\n",
       "8  27.0  female\n",
       "9  14.0  female"
      ]
     },
     "execution_count": 34,
     "metadata": {},
     "output_type": "execute_result"
    }
   ],
   "source": [
    "## .head(n) will show the first n rows\n",
    "titanic[['age','sex']].head(10)"
   ]
  },
  {
   "cell_type": "markdown",
   "metadata": {},
   "source": [
    "We can also chain boolean lookups to look at a subset of the data. For example we may want to view the whole data frame but not the rows that don't have values for the age and sex."
   ]
  },
  {
   "cell_type": "code",
   "execution_count": 35,
   "metadata": {},
   "outputs": [
    {
     "data": {
      "text/html": [
       "<div>\n",
       "<style>\n",
       "    .dataframe thead tr:only-child th {\n",
       "        text-align: right;\n",
       "    }\n",
       "\n",
       "    .dataframe thead th {\n",
       "        text-align: left;\n",
       "    }\n",
       "\n",
       "    .dataframe tbody tr th {\n",
       "        vertical-align: top;\n",
       "    }\n",
       "</style>\n",
       "<table border=\"1\" class=\"dataframe\">\n",
       "  <thead>\n",
       "    <tr style=\"text-align: right;\">\n",
       "      <th></th>\n",
       "      <th>survived</th>\n",
       "      <th>pclass</th>\n",
       "      <th>sex</th>\n",
       "      <th>age</th>\n",
       "      <th>sibsp</th>\n",
       "      <th>parch</th>\n",
       "      <th>fare</th>\n",
       "      <th>embarked</th>\n",
       "      <th>class</th>\n",
       "      <th>who</th>\n",
       "      <th>adult_male</th>\n",
       "      <th>deck</th>\n",
       "      <th>embark_town</th>\n",
       "      <th>alive</th>\n",
       "      <th>alone</th>\n",
       "    </tr>\n",
       "  </thead>\n",
       "  <tbody>\n",
       "    <tr>\n",
       "      <th>0</th>\n",
       "      <td>0</td>\n",
       "      <td>3</td>\n",
       "      <td>male</td>\n",
       "      <td>22.0</td>\n",
       "      <td>1</td>\n",
       "      <td>0</td>\n",
       "      <td>7.2500</td>\n",
       "      <td>S</td>\n",
       "      <td>Third</td>\n",
       "      <td>man</td>\n",
       "      <td>True</td>\n",
       "      <td>NaN</td>\n",
       "      <td>Southampton</td>\n",
       "      <td>no</td>\n",
       "      <td>False</td>\n",
       "    </tr>\n",
       "    <tr>\n",
       "      <th>1</th>\n",
       "      <td>1</td>\n",
       "      <td>1</td>\n",
       "      <td>female</td>\n",
       "      <td>38.0</td>\n",
       "      <td>1</td>\n",
       "      <td>0</td>\n",
       "      <td>71.2833</td>\n",
       "      <td>C</td>\n",
       "      <td>First</td>\n",
       "      <td>woman</td>\n",
       "      <td>False</td>\n",
       "      <td>C</td>\n",
       "      <td>Cherbourg</td>\n",
       "      <td>yes</td>\n",
       "      <td>False</td>\n",
       "    </tr>\n",
       "    <tr>\n",
       "      <th>2</th>\n",
       "      <td>1</td>\n",
       "      <td>3</td>\n",
       "      <td>female</td>\n",
       "      <td>26.0</td>\n",
       "      <td>0</td>\n",
       "      <td>0</td>\n",
       "      <td>7.9250</td>\n",
       "      <td>S</td>\n",
       "      <td>Third</td>\n",
       "      <td>woman</td>\n",
       "      <td>False</td>\n",
       "      <td>NaN</td>\n",
       "      <td>Southampton</td>\n",
       "      <td>yes</td>\n",
       "      <td>True</td>\n",
       "    </tr>\n",
       "    <tr>\n",
       "      <th>3</th>\n",
       "      <td>1</td>\n",
       "      <td>1</td>\n",
       "      <td>female</td>\n",
       "      <td>35.0</td>\n",
       "      <td>1</td>\n",
       "      <td>0</td>\n",
       "      <td>53.1000</td>\n",
       "      <td>S</td>\n",
       "      <td>First</td>\n",
       "      <td>woman</td>\n",
       "      <td>False</td>\n",
       "      <td>C</td>\n",
       "      <td>Southampton</td>\n",
       "      <td>yes</td>\n",
       "      <td>False</td>\n",
       "    </tr>\n",
       "    <tr>\n",
       "      <th>4</th>\n",
       "      <td>0</td>\n",
       "      <td>3</td>\n",
       "      <td>male</td>\n",
       "      <td>35.0</td>\n",
       "      <td>0</td>\n",
       "      <td>0</td>\n",
       "      <td>8.0500</td>\n",
       "      <td>S</td>\n",
       "      <td>Third</td>\n",
       "      <td>man</td>\n",
       "      <td>True</td>\n",
       "      <td>NaN</td>\n",
       "      <td>Southampton</td>\n",
       "      <td>no</td>\n",
       "      <td>True</td>\n",
       "    </tr>\n",
       "  </tbody>\n",
       "</table>\n",
       "</div>"
      ],
      "text/plain": [
       "   survived  pclass     sex   age  sibsp  parch     fare embarked  class  \\\n",
       "0         0       3    male  22.0      1      0   7.2500        S  Third   \n",
       "1         1       1  female  38.0      1      0  71.2833        C  First   \n",
       "2         1       3  female  26.0      0      0   7.9250        S  Third   \n",
       "3         1       1  female  35.0      1      0  53.1000        S  First   \n",
       "4         0       3    male  35.0      0      0   8.0500        S  Third   \n",
       "\n",
       "     who  adult_male deck  embark_town alive  alone  \n",
       "0    man        True  NaN  Southampton    no  False  \n",
       "1  woman       False    C    Cherbourg   yes  False  \n",
       "2  woman       False  NaN  Southampton   yes   True  \n",
       "3  woman       False    C  Southampton   yes  False  \n",
       "4    man        True  NaN  Southampton    no   True  "
      ]
     },
     "execution_count": 35,
     "metadata": {},
     "output_type": "execute_result"
    }
   ],
   "source": [
    "## We are first looking for the rows where the value for sex is male or female\n",
    "## then we look for age values that are not nulls (i.e. NaN in this case)\n",
    "titanic[\n",
    "    (titanic['sex'].isin(['male', 'female']))\n",
    "    & (titanic.age.notnull())\n",
    "].head()"
   ]
  },
  {
   "cell_type": "markdown",
   "metadata": {},
   "source": [
    "That's roughly all I think we'll have time for before looking at some plotting, but for more info then please have a look at this amazing resource that helped me loads and is where some of the inspiration for this tutorial came from (https://tryolabs.com/blog/2017/03/16/pandas-seaborn-a-guide-to-handle-visualize-data-elegantly/).\n",
    "\n",
    "---\n",
    "We'll now look at some very basic plotting and how to manipulate our dataframe to help with this. To begin with we will plot the distribution of the ages, after we've removed the NaN numbers."
   ]
  },
  {
   "cell_type": "code",
   "execution_count": 79,
   "metadata": {},
   "outputs": [
    {
     "data": {
      "image/png": "[encoded data removed]",
      "text/plain": [
       "<matplotlib.figure.Figure at 0xcea1d68>"
      ]
     },
     "metadata": {},
     "output_type": "display_data"
    }
   ],
   "source": [
    "# plot the distribution - this creates the object that will be plotted when matplotlib.pyplot is called\n",
    "sns.distplot(titanic.age.dropna())\n",
    "plt.show()"
   ]
  },
  {
   "cell_type": "code",
   "execution_count": 82,
   "metadata": {},
   "outputs": [
    {
     "data": {
      "image/png": "[encoded data removed]",
      "text/plain": [
       "<matplotlib.figure.Figure at 0xcc33eb8>"
      ]
     },
     "metadata": {},
     "output_type": "display_data"
    }
   ],
   "source": [
    "# we can also change the styling using sns. Let's say we don't like the white background, we can change the theme\n",
    "sns.set_style(\"dark\")\n",
    "sns.distplot(titanic.age.dropna())\n",
    "plt.show()"
   ]
  },
  {
   "cell_type": "markdown",
   "metadata": {},
   "source": [
    "Let's saw we want to see how the age varies against other variables within out data frame. To do this we can plot a series of distributions of all the combinations of various variables, which is known as faceting. Let's have a look at how the age distribution changes dependent on whether individuals survived, and what class they were in on the Titanic. "
   ]
  },
  {
   "cell_type": "code",
   "execution_count": 95,
   "metadata": {},
   "outputs": [
    {
     "data": {
      "image/png": "[encoded data removed]",
      "text/plain": [
       "<matplotlib.figure.Figure at 0xdda4470>"
      ]
     },
     "metadata": {},
     "output_type": "display_data"
    }
   ],
   "source": [
    "## Let's plot this, and set sharey to False so they all have their own y axes and are on white grids\n",
    "sns.set_style(\"whitegrid\")\n",
    "g = sns.FacetGrid(titanic, row = 'survived', col='class', sharey = False)\n",
    "g.map(sns.distplot, \"age\")\n",
    "plt.show()"
   ]
  },
  {
   "cell_type": "markdown",
   "metadata": {},
   "source": [
    "---\n",
    "We're going to stop here, which hopefully gives everyone plenty of time to have gotten this far. Hopefully this has been a useful intro. For further reading I would recommend the following links that were very helpful to me:\n",
    "\n",
    "https://www.dabapps.com/blog/introduction-to-pip-and-virtualenv-python/\n",
    "\n",
    "https://www.cheatography.com/weidadeyue/cheat-sheets/jupyter-notebook/\n",
    "\n",
    "https://www.dabapps.com/blog/introduction-to-pip-and-virtualenv-python/\n",
    "\n",
    "https://jakevdp.github.io/blog/2016/08/25/conda-myths-and-misconceptions/"
   ]
  }
 ],
 "metadata": {
  "kernelspec": {
   "display_name": "Python 3",
   "language": "python",
   "name": "python3"
  },
  "language_info": {
   "codemirror_mode": {
    "name": "ipython",
    "version": 3
   },
   "file_extension": ".py",
   "mimetype": "text/x-python",
   "name": "python",
   "nbconvert_exporter": "python",
   "pygments_lexer": "ipython3",
   "version": "3.5.4"
  }
 },
 "nbformat": 4,
 "nbformat_minor": 2
}
